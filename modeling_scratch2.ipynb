{
 "cells": [
  {
   "cell_type": "code",
   "execution_count": 7,
   "id": "3c2a5d65",
   "metadata": {},
   "outputs": [],
   "source": [
    "\n",
    "import pandas as pd\n",
    "import numpy as np\n",
    "import matplotlib.pyplot as plt\n",
    "import seaborn as sns\n",
    "from sklearn.model_selection import train_test_split\n",
    "from sklearn.linear_model import LinearRegression\n",
    "from sklearn.tree import DecisionTreeRegressor\n",
    "from sklearn.preprocessing import OneHotEncoder\n",
    "from sklearn.impute import SimpleImputer\n",
    "\n",
    "from sklearn.metrics import mean_absolute_percentage_error\n",
    "from sklearn.metrics import mean_squared_error\n",
    "\n",
    "import matplotlib.ticker as ticker\n",
    "import statsmodels.api as sm\n",
    "import statsmodels.formula.api as smf\n",
    "\n",
    "import plotly.express as px\n",
    "\n",
    "from eda import create_missing_values_barplot\n",
    "from eda import create_damage_histogram\n",
    "from eda import create_age_plotly\n",
    "from eda import create_damage_below_15000_histogram\n",
    "from eda import create_age_histogram\n",
    "from eda import plot_categorical_barplots\n",
    "from eda import create_age_plotly\n",
    "from eda import create_damage_plotly\n",
    "\n",
    "from modeling import prepare_data\n",
    "from modeling import create_premium_df\n",
    "from modeling import print_error_metrics\n",
    "from modeling import create_glm_model\n"
   ]
  },
  {
   "cell_type": "code",
   "execution_count": null,
   "id": "67ceac8b",
   "metadata": {},
   "outputs": [],
   "source": [
    "feature_train_df\n",
    "feature_test_df\n",
    "target_train_series\n",
    "\n",
    "\n",
    "prepared_"
   ]
  },
  {
   "cell_type": "code",
   "execution_count": 23,
   "id": "23955cf3",
   "metadata": {},
   "outputs": [],
   "source": [
    "df = pd.read_csv('AutoBI_output.csv')\n",
    "\n",
    "plotting_df = df.copy()\n",
    "categorical_cols = ['VEHICLE_TYPE', 'GENDER', 'MARITAL_STATUS', 'PREVCLM', 'SEATBELT']\n",
    "for col in categorical_cols:\n",
    "    plotting_df[col] = plotting_df[col].fillna('Missing')\n",
    "\n",
    "feature_df = df.loc[:, ['INSAGE', 'VEHICLE_TYPE', 'GENDER', 'MARITAL_STATUS', 'PREVCLM', 'SEATBELT']]\n",
    "target_series = df.loc[:, 'LOSS']"
   ]
  },
  {
   "cell_type": "code",
   "execution_count": 24,
   "id": "b51b0d76",
   "metadata": {},
   "outputs": [],
   "source": [
    "model_name = 'Gamma'\n",
    "perc_testing= 30"
   ]
  },
  {
   "cell_type": "code",
   "execution_count": null,
   "id": "154dfc2b",
   "metadata": {},
   "outputs": [],
   "source": [
    "feature_train_df, feature_test_df, target_train_series, target_test_series = train_test_split(\n",
    "        feature_df, target_series, test_size=perc_testing/100, random_state=12345)"
   ]
  },
  {
   "cell_type": "code",
   "execution_count": 29,
   "id": "7a2fe27f",
   "metadata": {},
   "outputs": [
    {
     "data": {
      "text/plain": [
       "(402, 6)"
      ]
     },
     "execution_count": 29,
     "metadata": {},
     "output_type": "execute_result"
    }
   ],
   "source": [
    "feature_test_df.shape"
   ]
  },
  {
   "cell_type": "code",
   "execution_count": 30,
   "id": "3bfde9d3",
   "metadata": {},
   "outputs": [],
   "source": [
    "prepared_feature_train_df = prepare_data(feature_train_df)\n",
    "prepared_feature_test_df = prepare_data(feature_test_df)\n",
    "    \n",
    "model = create_glm_model(target_train_series, prepared_feature_train_df, model_type=model_name)\n",
    "train_pred_series = model.predict(prepared_feature_train_df)"
   ]
  },
  {
   "cell_type": "code",
   "execution_count": null,
   "id": "e1b31dc6",
   "metadata": {},
   "outputs": [
    {
     "data": {
      "text/plain": [
       "792       957.354486\n",
       "672       746.704737\n",
       "358      1451.627828\n",
       "739      4362.550891\n",
       "841     15470.921416\n",
       "            ...     \n",
       "546      1178.864883\n",
       "382      8228.417980\n",
       "129       682.258655\n",
       "1309     9016.277621\n",
       "482      1271.550397\n",
       "Length: 938, dtype: float64"
      ]
     },
     "execution_count": 31,
     "metadata": {},
     "output_type": "execute_result"
    }
   ],
   "source": [
    "="
   ]
  }
 ],
 "metadata": {
  "kernelspec": {
   "display_name": ".venv",
   "language": "python",
   "name": "python3"
  },
  "language_info": {
   "codemirror_mode": {
    "name": "ipython",
    "version": 3
   },
   "file_extension": ".py",
   "mimetype": "text/x-python",
   "name": "python",
   "nbconvert_exporter": "python",
   "pygments_lexer": "ipython3",
   "version": "3.11.4"
  }
 },
 "nbformat": 4,
 "nbformat_minor": 5
}
